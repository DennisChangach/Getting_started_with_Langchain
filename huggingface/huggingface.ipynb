{
 "cells": [
  {
   "cell_type": "markdown",
   "metadata": {},
   "source": [
    "# Using HuggingFace"
   ]
  },
  {
   "cell_type": "markdown",
   "metadata": {},
   "source": [
    "The Hugging Face Hub is an platform with over 350k models, 75k datasets, and 150k demo apps (Spaces), all open source and publicly available, in an online platform where people can easily collaborate and build ML together."
   ]
  },
  {
   "cell_type": "code",
   "execution_count": 23,
   "metadata": {},
   "outputs": [],
   "source": [
    "#Loading document loaders\n",
    "from langchain_community.document_loaders import PyMuPDFLoader\n",
    "from langchain_community.document_loaders import PyPDFDirectoryLoader\n",
    "from langchain.text_splitter import RecursiveCharacterTextSplitter\n",
    "from langchain_community.vectorstores import FAISS\n",
    "\n",
    "from langchain_community.embeddings import HuggingFaceBgeEmbeddings\n",
    "from langchain.prompts import PromptTemplate\n",
    "\n",
    "from langchain.chains import RetrievalQA"
   ]
  },
  {
   "cell_type": "markdown",
   "metadata": {},
   "source": [
    "### Chunking the documents"
   ]
  },
  {
   "cell_type": "code",
   "execution_count": 4,
   "metadata": {},
   "outputs": [
    {
     "data": {
      "text/plain": [
       "Document(page_content='Health Insurance Coverage Status and Type \\nby Geography: 2021 and 2022\\nAmerican Community Survey Briefs\\nACSBR-015Issued September 2023Douglas Conway and Breauna Branch\\nINTRODUCTION\\nDemographic shifts as well as economic and govern-\\nment policy changes can affect people’s access to health coverage. For example, between 2021 and 2022, the labor market continued to improve, which may have affected private coverage in the United States \\nduring that time.\\n1 Public policy changes included \\nthe renewal of the Public Health Emergency, which \\nallowed Medicaid enrollees to remain covered under the Continuous Enrollment Provision.\\n2 The American \\nRescue Plan (ARP) enhanced Marketplace premium subsidies for those with incomes above 400 percent of the poverty level as well as for unemployed people.\\n3', metadata={'source': 'files\\\\file_1.pdf', 'page': 0})"
      ]
     },
     "execution_count": 4,
     "metadata": {},
     "output_type": "execute_result"
    }
   ],
   "source": [
    "#Read the pdfs from the folder\n",
    "loader = PyPDFDirectoryLoader(\"./files\")\n",
    "\n",
    "documents = loader.load()\n",
    "\n",
    "text_splitter = RecursiveCharacterTextSplitter(chunk_size=1000, chunk_overlap=200)\n",
    "\n",
    "final_documents = text_splitter.split_documents(documents)\n",
    "final_documents[0]"
   ]
  },
  {
   "cell_type": "code",
   "execution_count": 5,
   "metadata": {},
   "outputs": [
    {
     "data": {
      "text/plain": [
       "316"
      ]
     },
     "execution_count": 5,
     "metadata": {},
     "output_type": "execute_result"
    }
   ],
   "source": [
    "len(final_documents)"
   ]
  },
  {
   "cell_type": "markdown",
   "metadata": {},
   "source": [
    "### Embeddings"
   ]
  },
  {
   "cell_type": "code",
   "execution_count": 7,
   "metadata": {},
   "outputs": [
    {
     "name": "stderr",
     "output_type": "stream",
     "text": [
      "c:\\Users\\ADMIN\\Documents\\Data Analytics\\Machine Learning\\Getting_started_with_Langchain\\venv\\lib\\site-packages\\sentence_transformers\\cross_encoder\\CrossEncoder.py:11: TqdmWarning: IProgress not found. Please update jupyter and ipywidgets. See https://ipywidgets.readthedocs.io/en/stable/user_install.html\n",
      "  from tqdm.autonotebook import tqdm, trange\n",
      "c:\\Users\\ADMIN\\Documents\\Data Analytics\\Machine Learning\\Getting_started_with_Langchain\\venv\\lib\\site-packages\\huggingface_hub\\file_download.py:157: UserWarning: `huggingface_hub` cache-system uses symlinks by default to efficiently store duplicated files but your machine does not support them in C:\\Users\\ADMIN\\.cache\\huggingface\\hub\\models--BAAI--bge-small-en-v1.5. Caching files will still work but in a degraded version that might require more space on your disk. This warning can be disabled by setting the `HF_HUB_DISABLE_SYMLINKS_WARNING` environment variable. For more details, see https://huggingface.co/docs/huggingface_hub/how-to-cache#limitations.\n",
      "To support symlinks on Windows, you either need to activate Developer Mode or to run Python as an administrator. In order to see activate developer mode, see this article: https://docs.microsoft.com/en-us/windows/apps/get-started/enable-your-device-for-development\n",
      "  warnings.warn(message)\n"
     ]
    }
   ],
   "source": [
    "#Embeddings using Hugging Face\n",
    "hgf_embeddings = HuggingFaceBgeEmbeddings(model_name=\"BAAI/bge-small-en-v1.5\", #sentence-transformers/all-MiniLM-l6-v2\n",
    "                         model_kwargs = {'device':'cpu'},\n",
    "                         encode_kwargs={'normalize_embeddings':True}\n",
    "                         )"
   ]
  },
  {
   "cell_type": "code",
   "execution_count": 8,
   "metadata": {},
   "outputs": [
    {
     "name": "stdout",
     "output_type": "stream",
     "text": [
      "[-8.46568793e-02 -1.19099347e-02 -3.37892920e-02  2.94559766e-02\n",
      "  5.19159846e-02  5.73839881e-02 -4.10017557e-02  2.74268072e-02\n",
      " -1.05128214e-01 -1.58055872e-02  7.94858634e-02  5.64318411e-02\n",
      " -1.31765464e-02 -3.41543816e-02  5.81603311e-03  4.72547524e-02\n",
      " -1.30746849e-02  3.12988739e-03 -3.44225504e-02  3.08405999e-02\n",
      " -4.09086235e-02  3.52737531e-02 -2.43761446e-02 -4.35831696e-02\n",
      "  2.41503362e-02  1.31986886e-02 -4.84451558e-03  1.92347281e-02\n",
      " -5.43912575e-02 -1.42735034e-01  5.15528955e-03  2.93115862e-02\n",
      " -5.60811013e-02 -8.53537768e-03  3.14141251e-02  2.76736021e-02\n",
      " -2.06188336e-02  8.24231356e-02  4.15425748e-02  5.79655282e-02\n",
      " -3.71586904e-02  6.26157969e-03 -2.41390169e-02 -5.61793894e-03\n",
      " -2.51715332e-02  5.04969666e-03 -2.52801143e-02 -2.91941711e-03\n",
      " -8.24047532e-03 -5.69604859e-02  2.30822749e-02 -5.54220239e-03\n",
      "  5.11555821e-02  6.09937720e-02  6.49766549e-02 -5.38514070e-02\n",
      "  2.19109785e-02 -2.54194289e-02 -4.49223146e-02  4.22458760e-02\n",
      "  4.75252122e-02  7.23232690e-04 -2.61084527e-01  9.30173248e-02\n",
      "  1.13597354e-02  4.90668826e-02 -1.06286928e-02 -8.08731187e-03\n",
      " -1.53562371e-02 -5.33786193e-02 -6.89967200e-02  4.75178249e-02\n",
      " -5.68596125e-02  9.38642584e-03  4.24065962e-02  2.54347194e-02\n",
      "  9.67097841e-03  7.90799316e-03  2.25160941e-02  1.91008451e-03\n",
      "  3.06091644e-02  2.43991874e-02 -1.34115387e-02 -4.77401279e-02\n",
      "  4.89939637e-02 -9.49416235e-02  5.62893674e-02 -4.76260483e-02\n",
      "  2.81447414e-02 -2.54329368e-02 -3.84951495e-02  1.00939879e-02\n",
      "  1.90589883e-04  3.36625725e-02  1.00181820e-02  2.83524357e-02\n",
      " -2.68968893e-03 -6.96358550e-03 -3.54914740e-02  3.42758924e-01\n",
      " -1.94496308e-02  1.43988216e-02 -5.68811782e-03  1.71480998e-02\n",
      " -2.88611068e-03 -5.81653044e-02  6.35154487e-04  5.17299632e-03\n",
      "  2.06331443e-02  1.65708344e-02  2.15096343e-02 -2.38796193e-02\n",
      "  2.89275683e-02  4.67319153e-02 -3.56104970e-02 -1.05079301e-02\n",
      "  3.70704718e-02  1.57502741e-02  9.43095610e-02 -2.50715278e-02\n",
      " -9.55963507e-03  1.78565700e-02 -9.41780303e-03 -4.57858369e-02\n",
      "  1.82930417e-02  5.81431240e-02  4.94311042e-02  1.46350637e-01\n",
      "  2.16057822e-02 -3.92895862e-02  1.03241228e-01 -3.48300040e-02\n",
      " -6.61872141e-03  7.07987882e-03  9.26955079e-04  4.49868431e-03\n",
      " -2.89777517e-02  4.02419269e-02 -5.23194671e-03  4.59962189e-02\n",
      "  4.23969096e-03 -4.83792182e-03 -3.23237153e-03 -1.41072899e-01\n",
      " -3.76811177e-02  1.83623895e-01 -2.96609849e-02  4.90660593e-02\n",
      "  3.90551835e-02 -1.57757960e-02 -3.86351421e-02  4.65631112e-02\n",
      " -2.43485756e-02  3.57695073e-02 -3.54947373e-02  2.36265808e-02\n",
      " -3.41980747e-04  3.11703775e-02 -2.39356365e-02 -5.94757758e-02\n",
      "  6.06259815e-02 -3.81902084e-02 -7.04255700e-02  1.42479790e-02\n",
      "  3.34432311e-02 -3.85255180e-02 -1.71951503e-02 -7.12288693e-02\n",
      "  2.64976323e-02  1.09495576e-02  1.32650482e-02  3.89528014e-02\n",
      "  1.60355214e-02 -3.17630433e-02  1.02013700e-01  2.92912703e-02\n",
      " -2.29205713e-02 -8.38053785e-03 -1.72172710e-02 -6.78820536e-02\n",
      "  5.39415842e-03 -2.32346989e-02 -6.07407205e-02 -3.86575721e-02\n",
      " -1.54306795e-02 -3.84983309e-02 -5.02867661e-02  5.04235104e-02\n",
      "  4.94897924e-02 -1.41083132e-02 -2.98146531e-03  9.76715964e-05\n",
      " -6.59190342e-02  3.01006716e-02 -5.46569005e-04 -1.64787713e-02\n",
      " -5.21614514e-02 -3.30224703e-03  4.75748219e-02 -3.40808183e-02\n",
      " -2.98659876e-02  2.75014788e-02  5.90201188e-03 -2.64042546e-03\n",
      " -1.61242746e-02  2.05222480e-02  1.21104876e-02 -5.49782477e-02\n",
      "  5.10389395e-02 -7.92090129e-03  7.25207804e-03  3.51751335e-02\n",
      "  3.66276763e-02  5.67712181e-04  2.60788184e-02  2.50970777e-02\n",
      "  1.14481216e-02 -2.54925173e-02  1.96417589e-02  2.84220558e-02\n",
      "  2.82554217e-02  6.57489598e-02  9.26553831e-02 -2.68629700e-01\n",
      " -8.90569354e-04  3.16918665e-03  5.08358097e-03 -6.42101094e-02\n",
      " -4.56614792e-02 -4.62259948e-02  3.60924974e-02  8.29056650e-03\n",
      "  8.92349109e-02  5.68021797e-02  6.91058952e-03 -1.08684367e-02\n",
      "  9.36060622e-02  1.03680491e-02 -8.60929787e-02  1.77331846e-02\n",
      " -2.00802498e-02 -1.85124706e-02  5.62395027e-04 -9.38335340e-03\n",
      "  7.76061043e-03 -5.37273958e-02 -2.30028462e-02  7.48890787e-02\n",
      " -1.29693076e-02  6.53717294e-02 -4.24983278e-02 -7.10293651e-02\n",
      " -1.56803913e-02 -6.23028614e-02  5.36034256e-02 -6.53211959e-03\n",
      " -1.15985431e-01  6.70968220e-02  1.93366706e-02 -6.67828172e-02\n",
      " -2.01755110e-03 -6.27636686e-02 -2.95005403e-02 -2.71985997e-02\n",
      "  4.49796654e-02 -6.61587343e-02  2.13750787e-02 -2.94077657e-02\n",
      " -5.71503490e-02  4.05282415e-02  7.11039826e-02 -6.80165291e-02\n",
      "  2.11908892e-02  1.30515555e-02 -2.91153025e-02 -2.25581601e-02\n",
      " -1.60188656e-02  3.20553854e-02 -5.89460470e-02 -2.97131743e-02\n",
      "  3.42681669e-02 -1.58376172e-02 -9.31772869e-03  3.59834544e-02\n",
      "  3.65338940e-03  4.73320037e-02 -1.06235249e-02 -8.69739242e-03\n",
      " -4.38009687e-02  5.94556378e-03 -2.41493713e-02 -7.79940560e-02\n",
      "  1.46542648e-02  1.05614047e-02  5.45365177e-02 -3.17896865e-02\n",
      " -1.26762949e-02  7.92559981e-03 -1.38132917e-02  5.01397140e-02\n",
      " -7.28572672e-03 -5.23705548e-03 -5.32640815e-02  4.78208810e-02\n",
      " -5.38353994e-02  1.11437319e-02  3.96674387e-02 -1.93496495e-02\n",
      "  9.94823873e-03 -3.53477709e-03  3.58562754e-03 -9.61502828e-03\n",
      "  2.15324014e-02 -1.82350483e-02 -2.15189029e-02 -1.38835721e-02\n",
      " -1.76699217e-02  3.37974721e-04 -3.84825020e-04 -2.25800514e-01\n",
      "  4.51242886e-02  1.53376767e-02 -1.76966917e-02 -1.42526524e-02\n",
      " -7.00282538e-03 -3.13724987e-02  2.13674083e-03 -9.28344671e-03\n",
      " -1.66987032e-02  4.66264524e-02  7.71809593e-02  1.26696989e-01\n",
      " -1.83595363e-02 -1.39636816e-02 -1.23300590e-03  5.93339391e-02\n",
      " -1.37459696e-03  1.98233332e-02 -2.92635877e-02  4.96656373e-02\n",
      " -6.07207455e-02  1.53544769e-01 -4.67309393e-02  1.97029095e-02\n",
      " -7.67833367e-02 -7.73230474e-03  3.71618867e-02 -3.00591122e-02\n",
      "  8.30264110e-03  2.06258781e-02  1.97468791e-03  3.39764208e-02\n",
      " -1.70869455e-02  4.84796166e-02  1.20781884e-02  1.24999201e-02\n",
      "  5.61724715e-02  9.88546293e-03  2.13878881e-02 -4.25293818e-02\n",
      " -1.94037035e-02  2.47837584e-02  1.37260742e-02  6.41119704e-02\n",
      " -2.84480657e-02 -4.64116931e-02 -5.36255576e-02 -6.95284616e-05\n",
      "  6.45710304e-02 -4.32004395e-04 -1.32470764e-02  5.85132651e-03\n",
      "  1.48596056e-02 -5.41847348e-02 -2.02038605e-02 -5.98262772e-02\n",
      "  3.67029049e-02  1.43320498e-03 -8.64466093e-03  2.90671624e-02\n",
      "  4.38365862e-02 -7.64942616e-02  1.55717693e-02  6.65831193e-02]\n",
      "(384,)\n"
     ]
    }
   ],
   "source": [
    "import  numpy as np\n",
    "print(np.array(hgf_embeddings.embed_query(final_documents[0].page_content)))\n",
    "print(np.array(hgf_embeddings.embed_query(final_documents[0].page_content)).shape)"
   ]
  },
  {
   "cell_type": "code",
   "execution_count": 11,
   "metadata": {},
   "outputs": [],
   "source": [
    "## VectorStore Creation\n",
    "vectorstore=FAISS.from_documents(final_documents[:120],hgf_embeddings)"
   ]
  },
  {
   "cell_type": "code",
   "execution_count": 12,
   "metadata": {},
   "outputs": [
    {
     "name": "stdout",
     "output_type": "stream",
     "text": [
      "2 U.S. Census Bureau\n",
      "WHAT IS HEALTH INSURANCE COVERAGE?\n",
      "This brief presents state-level estimates of health insurance coverage \n",
      "using data from the American Community Survey (ACS). The  \n",
      "U.S. Census Bureau conducts the ACS throughout the year; the \n",
      "survey asks respondents to report their coverage at the time of \n",
      "interview. The resulting measure of health insurance coverage, \n",
      "therefore, reflects an annual average of current comprehensive \n",
      "health insurance coverage status.* This uninsured rate measures a \n",
      "different concept than the measure based on the Current Population \n",
      "Survey Annual Social and Economic Supplement (CPS ASEC). \n",
      "For reporting purposes, the ACS broadly classifies health insurance \n",
      "coverage as private insurance or public insurance. The ACS defines \n",
      "private health insurance as a plan provided through an employer \n",
      "or a union, coverage purchased directly by an individual from an \n",
      "insurance company or through an exchange (such as healthcare.\n"
     ]
    }
   ],
   "source": [
    "## Query using Similarity Search\n",
    "query=\"WHAT IS HEALTH INSURANCE COVERAGE?\"\n",
    "relevant_docments=vectorstore.similarity_search(query)\n",
    "\n",
    "print(relevant_docments[0].page_content)"
   ]
  },
  {
   "cell_type": "code",
   "execution_count": 13,
   "metadata": {},
   "outputs": [
    {
     "name": "stdout",
     "output_type": "stream",
     "text": [
      "tags=['FAISS', 'HuggingFaceBgeEmbeddings'] vectorstore=<langchain_community.vectorstores.faiss.FAISS object at 0x0000023E0754C2B0> search_kwargs={'k': 3}\n"
     ]
    }
   ],
   "source": [
    "retriever=vectorstore.as_retriever(search_type=\"similarity\",search_kwargs={\"k\":3})\n",
    "print(retriever)"
   ]
  },
  {
   "cell_type": "markdown",
   "metadata": {},
   "source": [
    "### Using Hugging Face LLM"
   ]
  },
  {
   "cell_type": "code",
   "execution_count": 15,
   "metadata": {},
   "outputs": [],
   "source": [
    "import os\n",
    "from dotenv import load_dotenv\n",
    "load_dotenv()\n",
    "os.environ['HUGGINGFACEHUB_API_TOKEN'] = os.getenv(\"HUGGINGFACEHUB_API_TOKEN\")"
   ]
  },
  {
   "cell_type": "code",
   "execution_count": 26,
   "metadata": {},
   "outputs": [
    {
     "data": {
      "text/plain": [
       "'What is the health insurance coverage?\\n\\nThe health insurance coverage is a contract between the insurer and the insured. The insurer agrees to pay the insured’s medical expenses in exchange for a premium. The insured agrees to pay the premium and to comply with the terms of the contract.\\n\\nWhat are the benefits of health insurance?\\n\\nThe benefits of health insurance include:\\n\\n1. Protection against financial ruin in the event of a serious illness or injury.\\n\\n2. Access to quality medical'"
      ]
     },
     "execution_count": 26,
     "metadata": {},
     "output_type": "execute_result"
    }
   ],
   "source": [
    "from langchain_community.llms import HuggingFaceHub\n",
    "\n",
    "hf=HuggingFaceHub(\n",
    "    repo_id=\"mistralai/Mistral-7B-v0.1\",\n",
    "    model_kwargs={\"temperature\":0.1,\"max_length\":500}\n",
    "\n",
    ")\n",
    "query=\"What is the health insurance coverage?\"\n",
    "hf.invoke(query)"
   ]
  },
  {
   "cell_type": "code",
   "execution_count": null,
   "metadata": {},
   "outputs": [],
   "source": [
    "#Hugging Face models can be run locally through the HuggingFacePipeline class.\n",
    "from langchain_community.llms.huggingface_pipeline import HuggingFacePipeline\n",
    "\n",
    "hf = HuggingFacePipeline.from_model_id(\n",
    "    model_id=\"mistralai/Mistral-7B-v0.1\",\n",
    "    task=\"text-generation\",\n",
    "    pipeline_kwargs={\"temperature\": 0, \"max_new_tokens\": 300}\n",
    ")\n",
    "\n",
    "llm = hf \n",
    "llm.invoke(query)"
   ]
  },
  {
   "cell_type": "code",
   "execution_count": 18,
   "metadata": {},
   "outputs": [],
   "source": [
    "prompt_template=\"\"\"\n",
    "Use the following piece of context to answer the question asked.\n",
    "Please try to provide the answer only based on the context\n",
    "\n",
    "{context}\n",
    "Question:{question}\n",
    "\n",
    "Helpful Answers:\n",
    " \"\"\""
   ]
  },
  {
   "cell_type": "code",
   "execution_count": 19,
   "metadata": {},
   "outputs": [],
   "source": [
    "prompt=PromptTemplate(template=prompt_template,input_variables=[\"context\",\"question\"])"
   ]
  },
  {
   "cell_type": "code",
   "execution_count": 27,
   "metadata": {},
   "outputs": [],
   "source": [
    "retrievalQA=RetrievalQA.from_chain_type(\n",
    "    llm=hf,\n",
    "    chain_type=\"stuff\",\n",
    "    retriever=retriever,\n",
    "    return_source_documents=True,\n",
    "    chain_type_kwargs={\"prompt\":prompt}\n",
    ")"
   ]
  },
  {
   "cell_type": "code",
   "execution_count": 29,
   "metadata": {},
   "outputs": [],
   "source": [
    "query=\"\"\"DIFFERENCES IN THE\n",
    "UNINSURED RATE BY STATE\n",
    "IN 2022\"\"\""
   ]
  },
  {
   "cell_type": "code",
   "execution_count": 30,
   "metadata": {},
   "outputs": [
    {
     "name": "stdout",
     "output_type": "stream",
     "text": [
      "\n",
      "Use the following piece of context to answer the question asked.\n",
      "Please try to provide the answer only based on the context\n",
      "\n",
      "comparison of ACS and CPS ASEC measures \n",
      "of health insurance coverage, refer to < www.\n",
      "census.gov/topics/health/health-insurance/\n",
      "guidance.html >.\n",
      "9 Respondents may have more than one \n",
      "health insurance coverage type at the time \n",
      "of interview. As a result, adding the total \n",
      "number of people with private coverage and \n",
      "the total number with public coverage will \n",
      "sum to more than the total number with any \n",
      "coverage.• From 2021 to 2022, nine states \n",
      "reported increases in private \n",
      "coverage, while seven reported \n",
      "decreases (Appendix Table B-2). \n",
      "DIFFERENCES IN THE \n",
      "UNINSURED RATE BY STATE \n",
      "IN 2022\n",
      "In 2022, uninsured rates at the \n",
      "time of interview ranged across \n",
      "states from a low of 2.4 percent \n",
      "in Massachusetts to a high of 16.6 \n",
      "percent in Texas, compared to the \n",
      "national rate of 8.0 percent.10 Ten \n",
      "of the 15 states with uninsured \n",
      "10 The uninsured rates in the District \n",
      "of Columbia and Massachusetts were not \n",
      "statistically different.rates above the national aver -\n",
      "\n",
      "percent (Appendix Table B-5). \n",
      "Medicaid coverage accounted \n",
      "for a portion of that difference. \n",
      "Medicaid coverage was 22.7 per -\n",
      "cent in the group of states that \n",
      "expanded Medicaid eligibility and \n",
      "18.0 percent in the group of nonex -\n",
      "pansion states.\n",
      "CHANGES IN THE UNINSURED \n",
      "RATE BY STATE FROM 2021 \n",
      "TO 2022\n",
      "From 2021 to 2022, uninsured rates \n",
      "decreased across 27 states, while \n",
      "only Maine had an increase. The \n",
      "uninsured rate in Maine increased \n",
      "from 5.7 percent to 6.6 percent, \n",
      "although it remained below the \n",
      "national average. Maine’s uninsured \n",
      "rate was still below 8.0 percent, \n",
      "21 Douglas Conway and Breauna Branch, \n",
      "“Health Insurance Coverage Status and Type \n",
      "by Geography: 2019 and 2021,” 2022, < www.\n",
      "census.gov/content/dam/Census/library/\n",
      "publications/2022/acs/acsbr-013.pdf >.\n",
      "\n",
      "library/publications/2022/acs/acsbr-013.pdf >.\n",
      "39 In 2022, the private coverage rates were \n",
      "not statistically different in North Dakota and \n",
      "Utah.Figure /five.tab/period.tab\n",
      "Percentage of Uninsured People for the /two.tab/five.tab Most Populous Metropolitan \n",
      "Areas/colon.tab /two.tab/zero.tab/two.tab/one.tab and /two.tab/zero.tab/two.tab/two.tab\n",
      "(Civilian, noninstitutionalized population) /uni00A0\n",
      "* Denotes a statistically signiﬁcant change between 2021 and 2022 at the 90 percent conﬁdence level.\n",
      "Note: For information on conﬁdentiality protection, sampling error, nonsampling error, and deﬁnitions in the American Community\n",
      "Survey, refer to <https://www2.census.gov/programs-surveys/acs/tech_docs/accuracy/ACS_Accuracy_of_Data_2022.pdf>.\n",
      "Source: U.S. Census Bureau, 2021 and 2022 American Community Survey, 1-year estimates. Boston-Cambridge-Newton/comma.tab MA-NH\n",
      "San Francisco-Oakland-Berkeley/comma.tab CA\n",
      "*Detroit-Warren-Dearborn/comma.tab MI\n",
      "Question:DIFFERENCES IN THE\n",
      "UNINSURED RATE BY STATE\n",
      "IN 2022\n",
      "\n",
      "Helpful Answers:\n",
      " \n",
      "\n",
      "\n",
      "\n",
      "\n",
      "\n",
      "\n",
      "\n",
      "\n",
      "\n",
      "\n",
      "\n",
      "\n",
      "\n",
      "\n",
      "\n",
      "\n",
      "\n",
      "\n",
      "\n",
      "\n",
      "\n",
      "\n",
      "\n",
      "\n",
      "\n",
      "\n",
      "\n",
      "\n",
      "\n",
      "\n",
      "\n",
      "\n",
      "\n",
      "\n",
      "\n",
      "\n",
      "\n",
      "\n",
      "\n",
      "\n",
      "\n",
      "\n",
      "\n",
      "\n",
      "\n",
      "\n",
      "\n",
      "\n",
      "\n",
      "\n",
      "\n",
      "\n",
      "\n",
      "\n",
      "\n",
      "\n",
      "\n",
      "\n",
      "\n",
      "\n",
      "\n",
      "\n",
      "\n",
      "\n",
      "\n",
      "\n",
      "\n",
      "\n",
      "\n",
      "\n",
      "\n",
      "\n",
      "\n",
      "\n",
      "\n",
      "\n",
      "\n",
      "\n",
      "\n",
      "\n",
      "\n",
      "\n",
      "\n",
      "\n",
      "\n",
      "\n",
      "\n",
      "\n",
      "\n",
      "\n",
      "\n",
      "\n",
      "\n",
      "\n",
      "\n",
      "\n",
      "\n",
      "\n",
      "\n",
      "\n"
     ]
    }
   ],
   "source": [
    "# Call the QA chain with our query.\n",
    "result = retrievalQA.invoke({\"query\": query})\n",
    "print(result['result'])"
   ]
  }
 ],
 "metadata": {
  "kernelspec": {
   "display_name": "Python 3",
   "language": "python",
   "name": "python3"
  },
  "language_info": {
   "codemirror_mode": {
    "name": "ipython",
    "version": 3
   },
   "file_extension": ".py",
   "mimetype": "text/x-python",
   "name": "python",
   "nbconvert_exporter": "python",
   "pygments_lexer": "ipython3",
   "version": "3.10.0"
  }
 },
 "nbformat": 4,
 "nbformat_minor": 2
}
